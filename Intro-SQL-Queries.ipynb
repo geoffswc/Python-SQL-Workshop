{
 "cells": [
  {
   "cell_type": "markdown",
   "metadata": {},
   "source": [
    "### Intro to SQL Workshop Queries\n",
    "\n",
    "This notebook contains the queries we wrote during the Intro to SQL workshop. \n",
    "\n",
    "In the workshop, we ran these through DB Browser for SQLite. Here, I'm running them through python and pandas, but the queries themselves are transferable - you can copy and paste the SQL and it should run fine in DB Browser or other IDEs (the portability of SQL is actually one of its benefits). \n",
    "\n",
    "If you want to run this specific workbook, you'll need to create a data directory (at the same level as this notebook) with a copy of the portal_mammals.sqlite file (see http://datacarpentry.org/sql-ecology-lesson/setup.html for instructions on getting this file). "
   ]
  },
  {
   "cell_type": "code",
   "execution_count": null,
   "metadata": {},
   "outputs": [],
   "source": [
    "import sqlite3\n",
    "import pandas as pd"
   ]
  },
  {
   "cell_type": "code",
   "execution_count": null,
   "metadata": {},
   "outputs": [],
   "source": [
    "conn = sqlite3.connect(\"data/portal_mammals.sqlite\")"
   ]
  },
  {
   "cell_type": "code",
   "execution_count": null,
   "metadata": {},
   "outputs": [],
   "source": [
    "pd.read_sql_query(\"\"\"\n",
    "    SELECT species, genus, taxa FROM species \n",
    "\"\"\", conn)"
   ]
  },
  {
   "cell_type": "code",
   "execution_count": null,
   "metadata": {},
   "outputs": [],
   "source": [
    "# select columns\n",
    "pd.read_sql_query(\"\"\"\n",
    "    SELECT species, genus, taxa FROM species \n",
    "\"\"\", conn)"
   ]
  },
  {
   "cell_type": "code",
   "execution_count": null,
   "metadata": {},
   "outputs": [],
   "source": [
    "## select rows \n",
    "pd.read_sql_query(\"\"\"\n",
    "    SELECT * FROM species WHERE taxa = 'Bird'\n",
    "\"\"\", conn)"
   ]
  },
  {
   "cell_type": "code",
   "execution_count": null,
   "metadata": {},
   "outputs": [],
   "source": [
    "pd.read_sql_query(\"\"\"\n",
    "    SELECT DISTINCT taxa FROM species\n",
    "\"\"\", conn)"
   ]
  },
  {
   "cell_type": "markdown",
   "metadata": {},
   "source": [
    "### exercise:\n",
    "- select everything from the surveys TABLE\n",
    "- select only the species_id and weight from the surveys TABLE\n",
    "- select the distinct species_id from the surveys TABLE\n",
    "- are there any species in the species table that aren't in the surveys table?\n",
    "- select only rows with month = 12"
   ]
  },
  {
   "cell_type": "code",
   "execution_count": null,
   "metadata": {},
   "outputs": [],
   "source": [
    "pd.read_sql_query(\"\"\"\n",
    "    SELECT * FROM surveys\n",
    "\"\"\", conn)"
   ]
  },
  {
   "cell_type": "code",
   "execution_count": null,
   "metadata": {},
   "outputs": [],
   "source": [
    "pd.read_sql_query(\"\"\"\n",
    "    SELECT species_id, weight FROM surveys\n",
    "\"\"\", conn)"
   ]
  },
  {
   "cell_type": "code",
   "execution_count": null,
   "metadata": {},
   "outputs": [],
   "source": [
    "pd.read_sql_query(\"\"\"\n",
    "    SELECT * FROM surveys WHERE month = 12\n",
    "\"\"\", conn)"
   ]
  },
  {
   "cell_type": "code",
   "execution_count": null,
   "metadata": {},
   "outputs": [],
   "source": [
    "pd.read_sql_query(\"\"\"\n",
    "    SELECT DISTINCT taxa FROM species\n",
    "\"\"\", conn)"
   ]
  },
  {
   "cell_type": "code",
   "execution_count": null,
   "metadata": {},
   "outputs": [],
   "source": [
    "pd.read_sql_query(\"\"\"\n",
    "    SELECT DISTINCT species_id FROM surveys\n",
    "\"\"\", conn)"
   ]
  },
  {
   "cell_type": "code",
   "execution_count": null,
   "metadata": {},
   "outputs": [],
   "source": [
    "## compound WHERE clause\n",
    "pd.read_sql_query(\"\"\"\n",
    "    SELECT * \n",
    "    FROM surveys\n",
    "    WHERE \n",
    "    (species_id = 'DS' OR species_id = 'DO' ) AND (hindfoot_length > 50 OR weight < 100)\n",
    "    ORDER BY hindfoot_length DESC\n",
    "\"\"\", conn)"
   ]
  },
  {
   "cell_type": "markdown",
   "metadata": {},
   "source": [
    "### exercise:\n",
    "\n",
    "- return everyting in month 1 OR 2 AND plot 8 or 9\n"
   ]
  },
  {
   "cell_type": "code",
   "execution_count": null,
   "metadata": {},
   "outputs": [],
   "source": [
    "## compound WHERE clause\n",
    "pd.read_sql_query(\"\"\"\n",
    "    SELECT * \n",
    "    FROM surveys\n",
    "    WHERE\n",
    "        (month = 1 OR month = 2) AND (plot_id = 9 OR plot_id = 9)\n",
    "\"\"\", conn)"
   ]
  },
  {
   "cell_type": "code",
   "execution_count": null,
   "metadata": {},
   "outputs": [],
   "source": [
    "# aggregations\n",
    "# GROUP BY\n",
    "# HAVING\n",
    "\n",
    "# note I commwned out the requirement thata hindfoot_length > 30\n",
    "# remove the -- to include this clause\n",
    "\n",
    "## compound WHERE clause\n",
    "pd.read_sql_query(\"\"\"\n",
    "    SELECT species_id, AVG(hindfoot_length)\n",
    "    FROM surveys\n",
    "    WHERE hindfoot_length IS NOT NULL\n",
    "    GROUP BY species_id\n",
    "    --HAVING AVG(hindfoot_length) > 30\n",
    "    ORDER BY AVG(hindfoot_length) DESC\n",
    "\"\"\", conn)\n",
    "\n",
    "\n"
   ]
  },
  {
   "cell_type": "code",
   "execution_count": null,
   "metadata": {},
   "outputs": [],
   "source": [
    "## aggregations\n",
    "# GROUP BY\n",
    "# SUM, AVG, MAX, MIN, COUNT\n",
    "# HAVING\n",
    "\n",
    "pd.read_sql_query(\"\"\"\n",
    "    SELECT species_id, COUNT(species_id)\n",
    "    FROM surveys\n",
    "    GROUP BY species_id\n",
    "    ORDER BY COUNT(species_id) DESC\n",
    "\"\"\", conn)\n",
    "\n"
   ]
  },
  {
   "cell_type": "markdown",
   "metadata": {},
   "source": [
    "### exercise\n",
    "- count the number of taxa in the species table\n",
    "- order in by count in descending order"
   ]
  },
  {
   "cell_type": "code",
   "execution_count": null,
   "metadata": {},
   "outputs": [],
   "source": [
    "# note - using an alias for one of the column names\n",
    "\n",
    "pd.read_sql_query(\"\"\"\n",
    "    SELECT taxa, COUNT(taxa) AS n_taxa\n",
    "    FROM species\n",
    "    GROUP BY taxa\n",
    "    ORDER BY n_taxa DESC\n",
    "\"\"\", conn)"
   ]
  },
  {
   "cell_type": "markdown",
   "metadata": {},
   "source": [
    "### JOINS\n",
    "\n",
    "- we can get the average hindfoot_length for each species_id\n",
    "- what if I want it by genus, or taxa?\n",
    "\n",
    "- start by JOINing\n",
    "- then we'll aggregate\n"
   ]
  },
  {
   "cell_type": "code",
   "execution_count": null,
   "metadata": {},
   "outputs": [],
   "source": [
    "pd.read_sql_query(\"\"\"\n",
    "    SELECT * \n",
    "    FROM species\n",
    "    JOIN surveys\n",
    "    ON species.species_id = surveys.species_id\n",
    "    JOIN plots\n",
    "    ON surveys.plot_id = plots.plot_id\n",
    "\"\"\", conn)"
   ]
  },
  {
   "cell_type": "markdown",
   "metadata": {},
   "source": [
    "### inner vs outer joins\n",
    "\n",
    "Inner joins only include rows where both tables have a matching fow\n",
    "Left Outer joins include all rows from the left table even if there is no match from the right table\n",
    "\n",
    "recall there were a few species_id in the species table that weren't in the surveys TABLE.\n",
    "We can use a LEFT OUTER join to include them in the result, even though there is no match in the species table"
   ]
  },
  {
   "cell_type": "code",
   "execution_count": null,
   "metadata": {},
   "outputs": [],
   "source": [
    "pd.read_sql_query(\"\"\"\n",
    "    SELECT *\n",
    "    FROM species\n",
    "    LEFT JOIN surveys\n",
    "    ON species.species_id = surveys.species_id\n",
    "    ORDER BY record_id\n",
    "    --WHERE record_id IS NULL\n",
    "\"\"\", conn)"
   ]
  },
  {
   "cell_type": "code",
   "execution_count": null,
   "metadata": {},
   "outputs": [],
   "source": []
  }
 ],
 "metadata": {
  "kernelspec": {
   "display_name": "Python 3",
   "language": "python",
   "name": "python3"
  },
  "language_info": {
   "codemirror_mode": {
    "name": "ipython",
    "version": 3
   },
   "file_extension": ".py",
   "mimetype": "text/x-python",
   "name": "python",
   "nbconvert_exporter": "python",
   "pygments_lexer": "ipython3",
   "version": "3.8.3"
  }
 },
 "nbformat": 4,
 "nbformat_minor": 4
}
