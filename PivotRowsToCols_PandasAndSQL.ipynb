{
  "nbformat": 4,
  "nbformat_minor": 0,
  "metadata": {
    "colab": {
      "provenance": []
    },
    "kernelspec": {
      "name": "python3",
      "display_name": "Python 3"
    },
    "language_info": {
      "name": "python"
    }
  },
  "cells": [
    {
      "cell_type": "code",
      "execution_count": 1,
      "metadata": {
        "colab": {
          "base_uri": "https://localhost:8080/"
        },
        "id": "SBx-2aD2dQpS",
        "outputId": "e18ea183-7141-47f7-88bd-41bcb31edc1e"
      },
      "outputs": [
        {
          "output_type": "stream",
          "name": "stdout",
          "text": [
            "       region  clinic_open  clinic_count\n",
            "0    Region 1         True            90\n",
            "1    Region 1        False            89\n",
            "2    Region 2         True            29\n",
            "3    Region 2        False            67\n",
            "4    Region 3         True            93\n",
            "..        ...          ...           ...\n",
            "95  Region 48        False            11\n",
            "96  Region 49         True            24\n",
            "97  Region 49        False            84\n",
            "98  Region 50         True            68\n",
            "99  Region 50        False            55\n",
            "\n",
            "[100 rows x 3 columns]\n"
          ]
        }
      ],
      "source": [
        "# prompt: create a pandas dataframe. the columns are \"region\" which is a string, \"clinic_open\" which is a boolean, and \"clinic_count\" which is an integer. Create two entries for each region, one with an \"clinic_open\" of true, one with an \"clinic_open\" of false, and put a random integer into the \"clinic_count\" field. Create entries\n",
        "# by the above rules  for 50 regions.\n",
        "\n",
        "import pandas as pd\n",
        "import numpy as np\n",
        "import random\n",
        "\n",
        "# Create a list of 50 regions\n",
        "regions = [\"Region \" + str(i) for i in range(1, 51)]\n",
        "\n",
        "# Initialize an empty list to store the data\n",
        "data = []\n",
        "\n",
        "# Generate data for each region\n",
        "for region in regions:\n",
        "  # Entry with clinic_open = True\n",
        "  data.append([region, True, random.randint(1, 100)])  # Random clinic count between 1 and 100\n",
        "\n",
        "  # Entry with clinic_open = False\n",
        "  data.append([region, False, random.randint(1, 100)])\n",
        "\n",
        "# Create a pandas DataFrame\n",
        "df = pd.DataFrame(data, columns=[\"region\", \"clinic_open\", \"clinic_count\"])\n",
        "\n",
        "print(df)\n"
      ]
    },
    {
      "cell_type": "code",
      "source": [
        "# prompt: convert the dataframe above into the following format.  list each region on a single row. create a column for clinic_open, and clinic_closed, and populate this column with the clinic count.\n",
        "\n",
        "import pandas as pd\n",
        "import numpy as np\n",
        "import random\n",
        "\n",
        "\n",
        "# Create a list of 50 regions\n",
        "#regions = [\"Region \" + str(i) for i in range(1, 51)]\n",
        "\n",
        "# Initialize an empty list to store the data\n",
        "#data = []\n",
        "\n",
        "# Generate data for each region\n",
        "#for region in regions:\n",
        "  # Entry with clinic_open = True\n",
        "  #data.append([region, True, random.randint(1, 100)])  # Random clinic count between 1 and 100\n",
        "\n",
        "  # Entry with clinic_open = False\n",
        "  #Data.append([region, False, random.randint(1, 100)])\n",
        "\n",
        "# Create a pandas DataFrame\n",
        "#df = pd.DataFrame(data, columns=[\"region\", \"clinic_open\", \"clinic_count\"])\n",
        "\n",
        "# Pivot the DataFrame to get the desired format\n",
        "result_df = df.pivot(index='region', columns='clinic_open', values='clinic_count').reset_index()\n",
        "result_df.columns = ['region', 'clinic_closed', 'clinic_open']\n",
        "\n",
        "print(result_df)\n"
      ],
      "metadata": {
        "colab": {
          "base_uri": "https://localhost:8080/"
        },
        "id": "VxHCzAFvihPk",
        "outputId": "dac0e738-d2b8-4cf3-bc63-90017b52db6b"
      },
      "execution_count": 3,
      "outputs": [
        {
          "output_type": "stream",
          "name": "stdout",
          "text": [
            "       region  clinic_closed  clinic_open\n",
            "0    Region 1             89           90\n",
            "1   Region 10             52           75\n",
            "2   Region 11             98           43\n",
            "3   Region 12             34           18\n",
            "4   Region 13              2            5\n",
            "5   Region 14             40            3\n",
            "6   Region 15             53           45\n",
            "7   Region 16             62           66\n",
            "8   Region 17             70           97\n",
            "9   Region 18             32           16\n",
            "10  Region 19             34           15\n",
            "11   Region 2             67           29\n",
            "12  Region 20             97           92\n",
            "13  Region 21             92            6\n",
            "14  Region 22              5           10\n",
            "15  Region 23             83           20\n",
            "16  Region 24             91           79\n",
            "17  Region 25             61           11\n",
            "18  Region 26             54           81\n",
            "19  Region 27             81           95\n",
            "20  Region 28             63           89\n",
            "21  Region 29             80            8\n",
            "22   Region 3             45           93\n",
            "23  Region 30             40           45\n",
            "24  Region 31             38           10\n",
            "25  Region 32             96           69\n",
            "26  Region 33             40           22\n",
            "27  Region 34             80           24\n",
            "28  Region 35              7           28\n",
            "29  Region 36             45           88\n",
            "30  Region 37             10            8\n",
            "31  Region 38             40           58\n",
            "32  Region 39             66           91\n",
            "33   Region 4             72           21\n",
            "34  Region 40             37           78\n",
            "35  Region 41             20           46\n",
            "36  Region 42             30           53\n",
            "37  Region 43             13           18\n",
            "38  Region 44             78           96\n",
            "39  Region 45             99           86\n",
            "40  Region 46             40           37\n",
            "41  Region 47             72           21\n",
            "42  Region 48             11           63\n",
            "43  Region 49             84           24\n",
            "44   Region 5             88           21\n",
            "45  Region 50             55           68\n",
            "46   Region 6             92           52\n",
            "47   Region 7             75           10\n",
            "48   Region 8             89           83\n",
            "49   Region 9             65           78\n"
          ]
        }
      ]
    },
    {
      "cell_type": "code",
      "source": [
        "!pip install pandasql"
      ],
      "metadata": {
        "colab": {
          "base_uri": "https://localhost:8080/"
        },
        "id": "WIBkfqvamw-V",
        "outputId": "894f4fac-a971-4cd7-fbc7-be1e433f4582"
      },
      "execution_count": 5,
      "outputs": [
        {
          "output_type": "stream",
          "name": "stdout",
          "text": [
            "Collecting pandasql\n",
            "  Downloading pandasql-0.7.3.tar.gz (26 kB)\n",
            "  Preparing metadata (setup.py) ... \u001b[?25l\u001b[?25hdone\n",
            "Requirement already satisfied: numpy in /usr/local/lib/python3.10/dist-packages (from pandasql) (1.25.2)\n",
            "Requirement already satisfied: pandas in /usr/local/lib/python3.10/dist-packages (from pandasql) (2.0.3)\n",
            "Requirement already satisfied: sqlalchemy in /usr/local/lib/python3.10/dist-packages (from pandasql) (2.0.31)\n",
            "Requirement already satisfied: python-dateutil>=2.8.2 in /usr/local/lib/python3.10/dist-packages (from pandas->pandasql) (2.8.2)\n",
            "Requirement already satisfied: pytz>=2020.1 in /usr/local/lib/python3.10/dist-packages (from pandas->pandasql) (2023.4)\n",
            "Requirement already satisfied: tzdata>=2022.1 in /usr/local/lib/python3.10/dist-packages (from pandas->pandasql) (2024.1)\n",
            "Requirement already satisfied: typing-extensions>=4.6.0 in /usr/local/lib/python3.10/dist-packages (from sqlalchemy->pandasql) (4.12.2)\n",
            "Requirement already satisfied: greenlet!=0.4.17 in /usr/local/lib/python3.10/dist-packages (from sqlalchemy->pandasql) (3.0.3)\n",
            "Requirement already satisfied: six>=1.5 in /usr/local/lib/python3.10/dist-packages (from python-dateutil>=2.8.2->pandas->pandasql) (1.16.0)\n",
            "Building wheels for collected packages: pandasql\n",
            "  Building wheel for pandasql (setup.py) ... \u001b[?25l\u001b[?25hdone\n",
            "  Created wheel for pandasql: filename=pandasql-0.7.3-py3-none-any.whl size=26771 sha256=ef32e77eff3335f960f6255e573fa69bef96928f2c3ba3fffac8784d639ebcf9\n",
            "  Stored in directory: /root/.cache/pip/wheels/e9/bc/3a/8434bdcccf5779e72894a9b24fecbdcaf97940607eaf4bcdf9\n",
            "Successfully built pandasql\n",
            "Installing collected packages: pandasql\n",
            "Successfully installed pandasql-0.7.3\n"
          ]
        }
      ]
    },
    {
      "cell_type": "code",
      "source": [
        "# prompt: convert the dataframe above into the following format.  list each region on a single row. create a column for clinic_open, and clinic_closed, and populate this column with the clinic count, but do this with SQL operations on a dataframe rather than pandas operations\n",
        "\n",
        "import pandas as pd\n",
        "import numpy as np\n",
        "import random\n",
        "from pandasql import sqldf\n",
        "\n",
        "# Create a list of 50 regions\n",
        "#regions = [\"Region \" + str(i) for i in range(1, 51)]\n",
        "\n",
        "# Initialize an empty list to store the data\n",
        "#data = []\n",
        "\n",
        "# Generate data for each region\n",
        "#for region in regions:\n",
        "  # Entry with clinic_open = True\n",
        "  #data.append([region, True, random.randint(1, 100)])  # Random clinic count between 1 and 100\n",
        "\n",
        "  # Entry with clinic_open = False\n",
        "  #data.append([region, False, random.randint(1, 100)])\n",
        "\n",
        "# Create a pandas DataFrame\n",
        "#df = pd.DataFrame(data, columns=[\"region\", \"clinic_open\", \"clinic_count\"])\n",
        "\n",
        "pysqldf = lambda q: sqldf(q, globals())\n",
        "\n",
        "# SQL query to pivot the data\n",
        "query = \"\"\"\n",
        "SELECT\n",
        "    region,\n",
        "    SUM(CASE WHEN clinic_open THEN clinic_count ELSE 0 END) AS clinic_open,\n",
        "    SUM(CASE WHEN NOT clinic_open THEN clinic_count ELSE 0 END) AS clinic_closed\n",
        "FROM\n",
        "    df\n",
        "GROUP BY\n",
        "    region\n",
        "ORDER BY\n",
        "    region\n",
        "\"\"\"\n",
        "\n",
        "result_df = pysqldf(query)\n",
        "\n",
        "print(result_df)\n"
      ],
      "metadata": {
        "colab": {
          "base_uri": "https://localhost:8080/"
        },
        "id": "jgDF00ifjyR-",
        "outputId": "dfbd70f4-bd5b-4649-8bc2-a91cd84a5184"
      },
      "execution_count": 8,
      "outputs": [
        {
          "output_type": "stream",
          "name": "stdout",
          "text": [
            "       region  clinic_open  clinic_closed\n",
            "0    Region 1           90             89\n",
            "1   Region 10           75             52\n",
            "2   Region 11           43             98\n",
            "3   Region 12           18             34\n",
            "4   Region 13            5              2\n",
            "5   Region 14            3             40\n",
            "6   Region 15           45             53\n",
            "7   Region 16           66             62\n",
            "8   Region 17           97             70\n",
            "9   Region 18           16             32\n",
            "10  Region 19           15             34\n",
            "11   Region 2           29             67\n",
            "12  Region 20           92             97\n",
            "13  Region 21            6             92\n",
            "14  Region 22           10              5\n",
            "15  Region 23           20             83\n",
            "16  Region 24           79             91\n",
            "17  Region 25           11             61\n",
            "18  Region 26           81             54\n",
            "19  Region 27           95             81\n",
            "20  Region 28           89             63\n",
            "21  Region 29            8             80\n",
            "22   Region 3           93             45\n",
            "23  Region 30           45             40\n",
            "24  Region 31           10             38\n",
            "25  Region 32           69             96\n",
            "26  Region 33           22             40\n",
            "27  Region 34           24             80\n",
            "28  Region 35           28              7\n",
            "29  Region 36           88             45\n",
            "30  Region 37            8             10\n",
            "31  Region 38           58             40\n",
            "32  Region 39           91             66\n",
            "33   Region 4           21             72\n",
            "34  Region 40           78             37\n",
            "35  Region 41           46             20\n",
            "36  Region 42           53             30\n",
            "37  Region 43           18             13\n",
            "38  Region 44           96             78\n",
            "39  Region 45           86             99\n",
            "40  Region 46           37             40\n",
            "41  Region 47           21             72\n",
            "42  Region 48           63             11\n",
            "43  Region 49           24             84\n",
            "44   Region 5           21             88\n",
            "45  Region 50           68             55\n",
            "46   Region 6           52             92\n",
            "47   Region 7           10             75\n",
            "48   Region 8           83             89\n",
            "49   Region 9           78             65\n"
          ]
        }
      ]
    },
    {
      "cell_type": "code",
      "source": [],
      "metadata": {
        "id": "PQpK56AlmqrY"
      },
      "execution_count": null,
      "outputs": []
    }
  ]
}