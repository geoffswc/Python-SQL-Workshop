{
 "cells": [
  {
   "cell_type": "markdown",
   "metadata": {},
   "source": [
    "## Notes for Python and SQL workshop"
   ]
  },
  {
   "cell_type": "markdown",
   "metadata": {},
   "source": [
    "### Overview\n",
    "\n",
    "The goal of this workshop is to build on skills developed in the Intro to Python and intro to SQL workshops. Material will involve analysis of data frames through Pandas and SQL, with an emphasis on how they can be used together for analysis.\n",
    "\n",
    "1. Pandas data set operations\n",
    "2. Interacting with a SQL database through Python and Pandas\n",
    "3. Using PandaSQL to interact with dataframes through SQL"
   ]
  },
  {
   "cell_type": "markdown",
   "metadata": {},
   "source": [
    "### Setup and Configuration\n",
    "\n",
    "To follow along with the material in this workshop, you'll need to install:\n",
    "\n",
    "1. DB Browser for SQLite\n",
    "2. Jupyter Notebook running Python 3.6 or later\n",
    "\n",
    "And you'll need to download the following files from https://figshare.com/articles/Portal_Project_Teaching_Database/1314459\n",
    "\n",
    "- species.csv\n",
    "- surveys.csv\n",
    "- plots.csv\n",
    "- portal_mammals.sqlite"
   ]
  }
 ],
 "metadata": {
  "kernelspec": {
   "display_name": "Python 3",
   "language": "python",
   "name": "python3"
  },
  "language_info": {
   "codemirror_mode": {
    "name": "ipython",
    "version": 3
   },
   "file_extension": ".py",
   "mimetype": "text/x-python",
   "name": "python",
   "nbconvert_exporter": "python",
   "pygments_lexer": "ipython3",
   "version": "3.6.8"
  }
 },
 "nbformat": 4,
 "nbformat_minor": 2
}
